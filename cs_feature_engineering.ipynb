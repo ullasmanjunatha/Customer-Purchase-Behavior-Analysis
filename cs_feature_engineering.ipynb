{
 "cells": [
  {
   "cell_type": "code",
   "execution_count": 2,
   "metadata": {},
   "outputs": [],
   "source": [
    "import pandas as pd\n",
    "\n",
    "df = pd.read_excel(\"Cleaned_Online_Retail.xlsx\")"
   ]
  },
  {
   "cell_type": "code",
   "execution_count": 6,
   "metadata": {},
   "outputs": [
    {
     "name": "stdout",
     "output_type": "stream",
     "text": [
      "Customer summary saved to 'Customer_Summary.xlsx'\n"
     ]
    }
   ],
   "source": [
    "#to Calculate total amount per customer\n",
    "\n",
    "df['Revenue'] = df['Quantity'] * df['UnitPrice']\n",
    "\n",
    "customer_summary = df.groupby('CustomerID').agg(\n",
    "    total_amount_spent = pd.NamedAgg(column='Revenue', aggfunc='sum'),\n",
    "    purchase_frequency = pd.NamedAgg(column='InvoiceNo', aggfunc='nunique')).reset_index()\n",
    "\n",
    "#average order value\n",
    "customer_summary['average_order_value'] = customer_summary['total_amount_spent'] / customer_summary['purchase_frequency']\n",
    "\n",
    "with pd.ExcelWriter('Customer_Summary.xlsx') as writer:\n",
    "    customer_summary.to_excel(writer, sheet_name='CustomerSummary', index=False)\n",
    "\n",
    "print(\"Customer summary saved to 'Customer_Summary.xlsx'\")\n",
    "\n"
   ]
  }
 ],
 "metadata": {
  "kernelspec": {
   "display_name": "venv",
   "language": "python",
   "name": "python3"
  },
  "language_info": {
   "codemirror_mode": {
    "name": "ipython",
    "version": 3
   },
   "file_extension": ".py",
   "mimetype": "text/x-python",
   "name": "python",
   "nbconvert_exporter": "python",
   "pygments_lexer": "ipython3",
   "version": "3.13.5"
  }
 },
 "nbformat": 4,
 "nbformat_minor": 2
}
