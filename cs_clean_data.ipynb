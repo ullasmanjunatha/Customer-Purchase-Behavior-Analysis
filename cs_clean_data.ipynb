{
 "cells": [
  {
   "cell_type": "code",
   "execution_count": 1,
   "metadata": {},
   "outputs": [],
   "source": [
    "import pandas as pd\n",
    "import numpy as np\n",
    "\n",
    "df = pd.read_excel(\"Online_Retail.xlsx\")"
   ]
  },
  {
   "cell_type": "code",
   "execution_count": 2,
   "metadata": {},
   "outputs": [
    {
     "name": "stdout",
     "output_type": "stream",
     "text": [
      "Missing values per column\n",
      "InvoiceNo           0\n",
      "StockCode           0\n",
      "Description      1454\n",
      "Quantity            0\n",
      "InvoiceDate         0\n",
      "UnitPrice           0\n",
      "CustomerID     135080\n",
      "Country             0\n",
      "dtype: int64\n"
     ]
    }
   ],
   "source": [
    "print(\"Missing values per column\")\n",
    "print(df.isnull().sum())"
   ]
  },
  {
   "cell_type": "code",
   "execution_count": 5,
   "metadata": {},
   "outputs": [],
   "source": [
    "# Now filling all null values in discription & customer id  column\n",
    "\n",
    "df['Description'] = df['Description'].fillna('Description not available')\n",
    "\n",
    "df['CustomerID'] = df['CustomerID'].fillna('Unknown')"
   ]
  },
  {
   "cell_type": "code",
   "execution_count": null,
   "metadata": {},
   "outputs": [
    {
     "name": "stdout",
     "output_type": "stream",
     "text": [
      "Missing values per column\n",
      "InvoiceNo      0\n",
      "StockCode      0\n",
      "Description    0\n",
      "Quantity       0\n",
      "InvoiceDate    0\n",
      "UnitPrice      0\n",
      "CustomerID     0\n",
      "Country        0\n",
      "dtype: int64\n"
     ]
    }
   ],
   "source": [
    "# Verify the changes\n",
    "print(df.isnull().sum())"
   ]
  },
  {
   "cell_type": "code",
   "execution_count": 8,
   "metadata": {},
   "outputs": [
    {
     "name": "stdout",
     "output_type": "stream",
     "text": [
      "Number of duplicates 5268\n",
      "Duplicated rows:\n",
      "        InvoiceNo StockCode                        Description  Quantity  \\\n",
      "517       536409     21866        UNION JACK FLAG LUGGAGE TAG         1   \n",
      "527       536409     22866      HAND WARMER SCOTTY DOG DESIGN         1   \n",
      "537       536409     22900    SET 2 TEA TOWELS I LOVE LONDON          1   \n",
      "539       536409     22111       SCOTTIE DOG HOT WATER BOTTLE         1   \n",
      "555       536412     22327  ROUND SNACK BOXES SET OF 4 SKULLS         1   \n",
      "...          ...       ...                                ...       ...   \n",
      "541675    581538     22068        BLACK PIRATE TREASURE CHEST         1   \n",
      "541689    581538     23318     BOX OF 6 MINI VINTAGE CRACKERS         1   \n",
      "541692    581538     22992             REVOLVER WOODEN RULER          1   \n",
      "541699    581538     22694                       WICKER STAR          1   \n",
      "541701    581538     23343       JUMBO BAG VINTAGE CHRISTMAS          1   \n",
      "\n",
      "               InvoiceDate  UnitPrice CustomerID         Country  \n",
      "517    2010-12-01 11:45:00       1.25    17908.0  United Kingdom  \n",
      "527    2010-12-01 11:45:00       2.10    17908.0  United Kingdom  \n",
      "537    2010-12-01 11:45:00       2.95    17908.0  United Kingdom  \n",
      "539    2010-12-01 11:45:00       4.95    17908.0  United Kingdom  \n",
      "555    2010-12-01 11:49:00       2.95    17920.0  United Kingdom  \n",
      "...                    ...        ...        ...             ...  \n",
      "541675 2011-12-09 11:34:00       0.39    14446.0  United Kingdom  \n",
      "541689 2011-12-09 11:34:00       2.49    14446.0  United Kingdom  \n",
      "541692 2011-12-09 11:34:00       1.95    14446.0  United Kingdom  \n",
      "541699 2011-12-09 11:34:00       2.10    14446.0  United Kingdom  \n",
      "541701 2011-12-09 11:34:00       2.08    14446.0  United Kingdom  \n",
      "\n",
      "[5268 rows x 8 columns]\n"
     ]
    }
   ],
   "source": [
    "# Duplicates check\n",
    "\n",
    "num_duplicate = df.duplicated().sum()\n",
    "print(\"Number of duplicates\", num_duplicate)\n",
    "\n",
    "#Duplicates display\n",
    "\n",
    "duplicates = df[df.duplicated()]\n",
    "print(\"Duplicated rows:\\n\", duplicates)"
   ]
  },
  {
   "cell_type": "code",
   "execution_count": 10,
   "metadata": {},
   "outputs": [
    {
     "name": "stdout",
     "output_type": "stream",
     "text": [
      "Duplicates removed. Data shape: (536641, 8)\n"
     ]
    }
   ],
   "source": [
    "#Remove duplicates\n",
    "\n",
    "df = df.drop_duplicates()\n",
    "\n",
    "print(\"Duplicates removed. Data shape:\", df.shape)"
   ]
  },
  {
   "cell_type": "code",
   "execution_count": 12,
   "metadata": {},
   "outputs": [
    {
     "name": "stdout",
     "output_type": "stream",
     "text": [
      "Number of duplicated rows 0\n"
     ]
    }
   ],
   "source": [
    "#Verify\n",
    "num_duplicate = df.duplicated().sum()\n",
    "print(\"Number of duplicated rows\", num_duplicate)"
   ]
  },
  {
   "cell_type": "code",
   "execution_count": 29,
   "metadata": {},
   "outputs": [],
   "source": [
    "#Convert date and time , customer id, invoice no., stock code to string\n",
    "\n",
    "df['InvoiceDate'] = pd.to_datetime(df['InvoiceDate'])\n",
    "df['CustomerID'] = df['CustomerID'].astype(str)\n",
    "\n",
    "cols_to_str = ['InvoiceNo', 'StockCode']\n",
    "df[cols_to_str] = df[cols_to_str].astype(str)\n"
   ]
  },
  {
   "cell_type": "code",
   "execution_count": 31,
   "metadata": {},
   "outputs": [],
   "source": [
    "# Remove rows with zero unit price and quantity\n",
    "\n",
    "df = df[df['UnitPrice'] > 0]\n",
    "df = df[df['Quantity'] > 0]\n"
   ]
  },
  {
   "cell_type": "code",
   "execution_count": 32,
   "metadata": {},
   "outputs": [
    {
     "name": "stdout",
     "output_type": "stream",
     "text": [
      "Number of rows with UnitPrice <= 0: 0\n",
      "Number of rows with Quantity <= 0: 0\n"
     ]
    }
   ],
   "source": [
    "#verify\n",
    "count_invalid_price = len(df[df['UnitPrice'] <= 0])\n",
    "print(\"Number of rows with UnitPrice <= 0:\", count_invalid_price)\n",
    "\n",
    "count_invalid_price = len(df[df['Quantity'] <= 0])\n",
    "print(\"Number of rows with Quantity <= 0:\", count_invalid_price)\n",
    "\n",
    "\n"
   ]
  },
  {
   "cell_type": "code",
   "execution_count": 33,
   "metadata": {},
   "outputs": [
    {
     "name": "stdout",
     "output_type": "stream",
     "text": [
      "Index(['InvoiceNo', 'Description', 'Quantity', 'InvoiceDate', 'UnitPrice',\n",
      "       'CustomerID', 'Country'],\n",
      "      dtype='object')\n"
     ]
    }
   ],
   "source": [
    "# Drop column stockPrice since it is not necessary for the analysis\n",
    "\n",
    "df = df.drop(columns=['StockCode'])\n",
    "\n",
    "#verify\n",
    "print(df.columns)"
   ]
  },
  {
   "cell_type": "code",
   "execution_count": 34,
   "metadata": {},
   "outputs": [],
   "source": [
    "# Downloading cleaned excel sheet for further analysis\n",
    "\n",
    "df.to_excel('Cleaned_Online_Retail.xlsx', index=False)"
   ]
  }
 ],
 "metadata": {
  "kernelspec": {
   "display_name": "venv",
   "language": "python",
   "name": "python3"
  },
  "language_info": {
   "codemirror_mode": {
    "name": "ipython",
    "version": 3
   },
   "file_extension": ".py",
   "mimetype": "text/x-python",
   "name": "python",
   "nbconvert_exporter": "python",
   "pygments_lexer": "ipython3",
   "version": "3.13.5"
  }
 },
 "nbformat": 4,
 "nbformat_minor": 2
}
